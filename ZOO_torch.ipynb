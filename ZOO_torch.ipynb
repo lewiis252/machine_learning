{
 "cells": [
  {
   "cell_type": "code",
   "execution_count": 178,
   "metadata": {
    "collapsed": true
   },
   "outputs": [],
   "source": [
    "%matplotlib inline\n",
    "import torch\n",
    "from torch import nn\n",
    "from torch.utils.data import DataLoader\n",
    "from torchvision import datasets, transforms\n",
    "import matplotlib.pyplot as plt\n",
    "import numpy as np\n",
    "import pandas as pd\n",
    "from sklearn.model_selection import train_test_split\n",
    "from sklearn.preprocessing import StandardScaler"
   ]
  },
  {
   "cell_type": "code",
   "execution_count": 179,
   "outputs": [
    {
     "name": "stdout",
     "output_type": "stream",
     "text": [
      "Using cpu device\n"
     ]
    }
   ],
   "source": [
    "# Get cpu or gpu device for training.\n",
    "device = \"cpu\" if torch.cuda.is_available() else \"cpu\"\n",
    "print(\"Using {} device\".format(device))"
   ],
   "metadata": {
    "collapsed": false,
    "pycharm": {
     "name": "#%%\n"
    }
   }
  },
  {
   "cell_type": "code",
   "execution_count": 180,
   "outputs": [],
   "source": [
    "# reading csv files\n",
    "data =  pd.read_csv('data\\zoo\\zoo.data', sep=\",\", header=None)\n"
   ],
   "metadata": {
    "collapsed": false,
    "pycharm": {
     "name": "#%%\n"
    }
   }
  },
  {
   "cell_type": "code",
   "execution_count": 181,
   "outputs": [],
   "source": [
    "y = data[17]\n",
    "names = data[0]\n",
    "X = data.loc[:, 1:16]\n",
    "\n",
    "X_train, X_test, y_train, y_test = train_test_split(X, y, random_state=42)\n",
    "\n",
    "#scaling\n",
    "scaler = StandardScaler()\n",
    "X_train = scaler.fit_transform(X_train)\n",
    "X_test = scaler.transform(X_test)\n",
    "\n",
    "# X = torch.from_numpy(X.values).float().to(device)\n",
    "# y = torch.torch.from_numpy(y.values).long().to(device)\n",
    "# y = y-1\n",
    "\n",
    "\n",
    "X_train = torch.from_numpy(X_train).float().to(device)\n",
    "y_train = torch.torch.from_numpy(y_train.values).long().to(device) -1\n",
    "X_test = torch.from_numpy(X_test).float().to(device)\n",
    "y_test = torch.torch.from_numpy(y_test.values).long().to(device) -1\n"
   ],
   "metadata": {
    "collapsed": false,
    "pycharm": {
     "name": "#%%\n"
    }
   }
  },
  {
   "cell_type": "code",
   "execution_count": 182,
   "outputs": [],
   "source": [
    "# make network architecture\n",
    "class Net(nn.Module):\n",
    "    def __init__(self):\n",
    "        super(Net, self).__init__()\n",
    "\n",
    "        self.linear_relu_stack = nn.Sequential(\n",
    "        nn.Linear(16, 300), # input layer\n",
    "        nn.ReLU(), # activation function\n",
    "        nn.Dropout(),\n",
    "        nn.Linear(300, 150), # hidden layer\n",
    "        nn.ReLU(), # activation function\n",
    "        nn.Dropout(),\n",
    "        nn.Linear(150, 7), # output layer\n",
    "\n",
    "    )\n",
    "\n",
    "    def forward(self, x):\n",
    "        out = self.linear_relu_stack(x)\n",
    "        return out\n"
   ],
   "metadata": {
    "collapsed": false,
    "pycharm": {
     "name": "#%%\n"
    }
   }
  },
  {
   "cell_type": "code",
   "execution_count": 183,
   "outputs": [],
   "source": [
    "def training_loop(n_epochs, optimizer, model, loss_fn, X, y):\n",
    "\n",
    "    total = len(y_train)\n",
    "\n",
    "    for epoch in range(1, n_epochs+1):\n",
    "        correct = 0\n",
    "        outputs = model(X)\n",
    "        loss = loss_fn(outputs, y)\n",
    "\n",
    "        optimizer.zero_grad()\n",
    "        loss.backward()\n",
    "        optimizer.step()\n",
    "\n",
    "        _, predicted = torch.max(outputs, dim=1) # Gives us the index of the highest value\n",
    "\n",
    "        correct += int((predicted == y).sum())\n",
    "        acc = correct/total\n",
    "\n",
    "        # epoch_list.append(epoch)\n",
    "        # train_loss_list.append(loss)\n",
    "\n",
    "        # set when to print info about training progress\n",
    "        if epoch == 1 or epoch % 10 == 0:\n",
    "            print('Epoch {}, Training loss {}, Accuracy {:.2f}'.format(epoch, np.sqrt(loss.to('cpu').detach().numpy()), acc))\n",
    "\n",
    "n_epochs = 20\n",
    "model = Net().to(device)\n",
    "optimizer = torch.optim.Adam(model.parameters(), lr=1e-2)\n",
    "loss_fn = nn.CrossEntropyLoss()\n",
    "\n",
    "\n"
   ],
   "metadata": {
    "collapsed": false,
    "pycharm": {
     "name": "#%%\n"
    }
   }
  },
  {
   "cell_type": "code",
   "execution_count": 184,
   "outputs": [],
   "source": [
    "def validate_on_test(model, loss_fn, X_test, y_test):\n",
    "    total = len(y_test)\n",
    "    correct = 0\n",
    "    with torch.no_grad():\n",
    "        outputs = model(X_test)\n",
    "        loss_test = loss_fn(outputs, y_test)\n",
    "\n",
    "        _, predicted = torch.max(outputs, dim=1) # Gives us the index of the highest value\n",
    "        correct += int((predicted == y_test).sum())\n",
    "\n",
    "\n",
    "    print('Test Loss: {}, Accuracy {:.4f}'.format(loss_test, correct/total))"
   ],
   "metadata": {
    "collapsed": false,
    "pycharm": {
     "name": "#%%\n"
    }
   }
  },
  {
   "cell_type": "code",
   "execution_count": 185,
   "outputs": [
    {
     "name": "stdout",
     "output_type": "stream",
     "text": [
      "Epoch 1, Training loss 1.3984730243682861, Accuracy 0.21\n",
      "Epoch 10, Training loss 0.3281100392341614, Accuracy 0.95\n",
      "Epoch 20, Training loss 0.12258364260196686, Accuracy 1.00\n",
      "Test Loss: 0.08637832850217819, Accuracy 0.9615\n"
     ]
    }
   ],
   "source": [
    "training_loop(n_epochs=n_epochs,\n",
    "              optimizer=optimizer,\n",
    "              model=model,\n",
    "              loss_fn=loss_fn,\n",
    "              X=X_train,\n",
    "              y=y_train)\n",
    "\n",
    "validate_on_test(model=model, loss_fn=loss_fn, X_test=X_test, y_test=y_test)"
   ],
   "metadata": {
    "collapsed": false,
    "pycharm": {
     "name": "#%%\n"
    }
   }
  }
 ],
 "metadata": {
  "kernelspec": {
   "name": "pycharm-5ff677bb",
   "language": "python",
   "display_name": "PyCharm (machine_learning)"
  },
  "language_info": {
   "codemirror_mode": {
    "name": "ipython",
    "version": 2
   },
   "file_extension": ".py",
   "mimetype": "text/x-python",
   "name": "python",
   "nbconvert_exporter": "python",
   "pygments_lexer": "ipython2",
   "version": "2.7.6"
  }
 },
 "nbformat": 4,
 "nbformat_minor": 0
}