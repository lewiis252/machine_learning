{
 "cells": [
  {
   "cell_type": "code",
   "execution_count": 118,
   "metadata": {
    "collapsed": true
   },
   "outputs": [],
   "source": [
    "%matplotlib inline\n",
    "import torch\n",
    "from torch import nn\n",
    "from torch.utils.data import DataLoader\n",
    "from torchvision import datasets, transforms\n",
    "import matplotlib.pyplot as plt\n",
    "import numpy as np"
   ]
  },
  {
   "cell_type": "code",
   "execution_count": 119,
   "outputs": [
    {
     "name": "stdout",
     "output_type": "stream",
     "text": [
      "Using cuda device\n"
     ]
    }
   ],
   "source": [
    "# Get cpu or gpu device for training.\n",
    "device = \"cuda\" if torch.cuda.is_available() else \"cpu\"\n",
    "print(\"Using {} device\".format(device))"
   ],
   "metadata": {
    "collapsed": false,
    "pycharm": {
     "name": "#%%\n"
    }
   }
  },
  {
   "cell_type": "code",
   "execution_count": 120,
   "outputs": [],
   "source": [
    "#load data\n",
    "mnist_train = datasets.FashionMNIST(\n",
    "    root='data',\n",
    "    train=True,\n",
    "    download=True,\n",
    "    transform=transforms.ToTensor()\n",
    ")\n",
    "\n",
    "mnist_test = datasets.FashionMNIST(\n",
    "    root='data',\n",
    "    train=False,\n",
    "    download=True,\n",
    "    transform=transforms.ToTensor()\n",
    ")\n",
    "\n",
    "# make validation set\n",
    "\n",
    "train_length = len(mnist_train)\n",
    "train_size = int(0.85 * train_length)\n",
    "val_size = train_length - train_size\n",
    "\n",
    "mnist_train, mnist_val = torch.utils.data.random_split(mnist_train, [train_size, val_size])\n",
    "\n",
    "# store train and val loss\n",
    "train_loss_list = []\n",
    "val_loss_list = []\n",
    "epoch_list = []\n",
    "train_acc_list = []\n",
    "val_acc_list = []"
   ],
   "metadata": {
    "collapsed": false,
    "pycharm": {
     "name": "#%%\n"
    }
   }
  },
  {
   "cell_type": "code",
   "execution_count": 121,
   "outputs": [
    {
     "data": {
      "text/plain": "<matplotlib.image.AxesImage at 0x28834df65e0>"
     },
     "execution_count": 121,
     "metadata": {},
     "output_type": "execute_result"
    },
    {
     "data": {
      "text/plain": "<Figure size 432x288 with 1 Axes>",
      "image/png": "[encoded data removed]"
     },
     "metadata": {
      "needs_background": "light"
     },
     "output_type": "display_data"
    }
   ],
   "source": [
    "# visualise sample of data to know what we are dealing with\n",
    "plt.figure(1)\n",
    "img, label = mnist_train[5]\n",
    "plt.imshow(img.squeeze(), cmap='gray')"
   ],
   "metadata": {
    "collapsed": false,
    "pycharm": {
     "name": "#%%\n"
    }
   }
  },
  {
   "cell_type": "code",
   "execution_count": 122,
   "outputs": [
    {
     "data": {
      "text/plain": "torch.Size([1, 28, 28])"
     },
     "execution_count": 122,
     "metadata": {},
     "output_type": "execute_result"
    }
   ],
   "source": [
    "img.size()"
   ],
   "metadata": {
    "collapsed": false,
    "pycharm": {
     "name": "#%%\n"
    }
   }
  },
  {
   "cell_type": "code",
   "execution_count": 123,
   "outputs": [],
   "source": [
    "# make network architecture\n",
    "class Net(nn.Module):\n",
    "    def __init__(self):\n",
    "        super(Net, self).__init__()\n",
    "\n",
    "        self.layer1 = nn.Sequential(\n",
    "            nn.Conv2d(in_channels=1, out_channels=32, kernel_size=3, padding=1),\n",
    "            nn.BatchNorm2d(32),\n",
    "            nn.ReLU(),\n",
    "            nn.MaxPool2d(2)\n",
    "        )\n",
    "\n",
    "        self.layer2 = nn.Sequential(\n",
    "            nn.Conv2d(in_channels=32, out_channels=64, kernel_size=3, padding=1),\n",
    "            nn.BatchNorm2d(64),\n",
    "            nn.ReLU(),\n",
    "            nn.MaxPool2d(2)\n",
    "        )\n",
    "\n",
    "        self.fc1 = nn.Linear(64 * 7 * 7, 128) # 16 from batchnorm, 14 from pooling\n",
    "        self.act1 = nn.ReLU()\n",
    "        self.fc2 = nn.Linear(128,10)\n",
    "        # self.act2 = nn.Softmax(dim=1)\n",
    "\n",
    "    def forward(self, x):\n",
    "        out = self.layer1(x)\n",
    "        out = self.layer2(out)\n",
    "        out = out.view(-1, 64 * 7 * 7)\n",
    "        out = self.fc1(out)\n",
    "        out = self.act1(out)\n",
    "        out = self.fc2(out)\n",
    "        # out = self.act2(out)\n",
    "        return out\n"
   ],
   "metadata": {
    "collapsed": false,
    "pycharm": {
     "name": "#%%\n"
    }
   }
  },
  {
   "cell_type": "code",
   "execution_count": 124,
   "outputs": [],
   "source": [
    "# train and test loop\n",
    "def train_loop(n_epochs, optimizer, model, loss_fn, train_loader, val_loader):\n",
    "\n",
    "    best_val_acc = 0.0\n",
    "    for epoch in range(1, n_epochs+1):\n",
    "        loss_train = 0.0\n",
    "        train_total = 0.0\n",
    "        train_correct = 0.0\n",
    "        val_total = 0.0\n",
    "        val_correct = 0.0\n",
    "        for imgs, labels in train_loader:\n",
    "            # move tensors to gpu\n",
    "            imgs = imgs.to(device)\n",
    "            labels = labels.to(device)\n",
    "\n",
    "            outputs = model(imgs)\n",
    "\n",
    "            loss = loss_fn(outputs, labels)\n",
    "\n",
    "            optimizer.zero_grad()\n",
    "            loss.backward()\n",
    "            optimizer.step()\n",
    "\n",
    "            loss_train += loss.item()\n",
    "\n",
    "            _, predicted = torch.max(outputs, dim=1) # Gives us the index of the highest value\n",
    "            train_total += labels.shape[0]  # Counts the number of examples, so total is increased by the batch size\n",
    "            train_correct += int((predicted == labels).sum())\n",
    "\n",
    "\n",
    "\n",
    "        epoch_list.append(epoch)\n",
    "        train_loss_list.append(loss_train / len(train_loader))\n",
    "\n",
    "        # get loss of validation data\n",
    "        with torch.no_grad():\n",
    "            loss_val = 0.0\n",
    "\n",
    "\n",
    "            for imgs, labels in val_loader:\n",
    "                # move tensors to gpu if available\n",
    "                imgs = imgs.to(device=device)\n",
    "                labels = labels.to(device=device)\n",
    "\n",
    "                outputs = model(imgs)\n",
    "\n",
    "                loss_v = loss_fn(outputs, labels)\n",
    "\n",
    "                loss_val += loss_v.item()\n",
    "\n",
    "                _, predicted = torch.max(outputs, dim=1) # Gives us the index of the highest value\n",
    "                val_total += labels.shape[0]  # Counts the number of examples, so total is increased by the batch size\n",
    "                val_correct += int((predicted == labels).sum())\n",
    "\n",
    "\n",
    "\n",
    "        val_loss_list.append(loss_val / len(val_loader))\n",
    "\n",
    "        val_acc = val_correct/val_total\n",
    "\n",
    "        train_acc_list.append(train_correct/train_total)\n",
    "        val_acc_list.append(val_acc)\n",
    "\n",
    "        if val_acc > best_val_acc:\n",
    "            print('Found better model')\n",
    "            best_val_acc = val_acc\n",
    "            torch.save(model.state_dict(), 'mnist_digits_nn.pt')\n",
    "\n",
    "        # set when to print info about training progress\n",
    "        if epoch == 1 or epoch % 1 == 0:\n",
    "            print('Epoch {}, Training loss {:.4f}, Validation loss {:.4f}, Train Acc {:.4f}, Val Acc {:.4f}'.format(epoch, loss_train / len(train_loader), loss_val / len(val_loader), train_correct/train_total, val_acc),\n",
    "                  )\n",
    "            print('Best Val Acc {:.4f}'.format(best_val_acc))\n",
    "        \n",
    "\n",
    "    model = Net()\n",
    "    model.load_state_dict(torch.load('mnist_digits_nn.pt'))\n",
    "\n",
    "\n",
    "def test_loop(model, test_loader):\n",
    "    correct = 0.0\n",
    "    total = 0.0\n",
    "\n",
    "    with torch.no_grad():\n",
    "        for imgs, labels in test_loader:\n",
    "            # move to gpu\n",
    "            imgs = imgs.to(device=device)\n",
    "            labels = labels.to(device=device)\n",
    "\n",
    "            outputs = model(imgs)\n",
    "            _, predicted = torch.max(outputs, dim=1) # Gives us the index of the highest value\n",
    "            total += labels.shape[0]  # Counts the number of examples, so total is increased by the batch size\n",
    "            correct += int((predicted == labels).sum())\n",
    "\n",
    "\n",
    "    print(\"Accuracy test: {:.4f} %\".format(correct / total))"
   ],
   "metadata": {
    "collapsed": false,
    "pycharm": {
     "name": "#%%\n"
    }
   }
  },
  {
   "cell_type": "code",
   "execution_count": null,
   "outputs": [
    {
     "name": "stdout",
     "output_type": "stream",
     "text": [
      "Found better model\n",
      "Epoch 1, Training loss 0.5013, Validation loss 0.3639, Train Acc 0.8385, Val Acc 0.8721\n",
      "Best Val Acc 0.8721\n",
      "Found better model\n",
      "Epoch 2, Training loss 0.2890, Validation loss 0.2889, Train Acc 0.8943, Val Acc 0.8982\n",
      "Best Val Acc 0.8982\n",
      "Found better model\n",
      "Epoch 3, Training loss 0.2490, Validation loss 0.2717, Train Acc 0.9100, Val Acc 0.9038\n",
      "Best Val Acc 0.9038\n",
      "Found better model\n",
      "Epoch 4, Training loss 0.2248, Validation loss 0.2752, Train Acc 0.9171, Val Acc 0.9042\n",
      "Best Val Acc 0.9042\n",
      "Epoch 5, Training loss 0.2056, Validation loss 0.3032, Train Acc 0.9262, Val Acc 0.9007\n",
      "Best Val Acc 0.9042\n",
      "Epoch 6, Training loss 0.1931, Validation loss 0.3203, Train Acc 0.9294, Val Acc 0.9000\n",
      "Best Val Acc 0.9042\n",
      "Epoch 7, Training loss 0.1842, Validation loss 0.3527, Train Acc 0.9322, Val Acc 0.8890\n",
      "Best Val Acc 0.9042\n",
      "Epoch 8, Training loss 0.1753, Validation loss 0.3215, Train Acc 0.9362, Val Acc 0.9017\n",
      "Best Val Acc 0.9042\n",
      "Epoch 9, Training loss 0.1626, Validation loss 0.3186, Train Acc 0.9400, Val Acc 0.9026\n",
      "Best Val Acc 0.9042\n",
      "Epoch 10, Training loss 0.1568, Validation loss 0.3549, Train Acc 0.9423, Val Acc 0.9002\n",
      "Best Val Acc 0.9042\n",
      "Epoch 11, Training loss 0.1493, Validation loss 0.3570, Train Acc 0.9445, Val Acc 0.8979\n",
      "Best Val Acc 0.9042\n",
      "Epoch 12, Training loss 0.1422, Validation loss 0.3410, Train Acc 0.9476, Val Acc 0.9038\n",
      "Best Val Acc 0.9042\n",
      "Epoch 13, Training loss 0.1344, Validation loss 0.3858, Train Acc 0.9512, Val Acc 0.9003\n",
      "Best Val Acc 0.9042\n"
     ]
    }
   ],
   "source": [
    "# set model and params\n",
    "n_epochs = 25\n",
    "model = Net().to(device)\n",
    "optimizer = torch.optim.Adam(model.parameters(), lr=1e-2)\n",
    "loss_fn = nn.CrossEntropyLoss()\n",
    "train_loader = torch.utils.data.DataLoader(mnist_train, batch_size=64, shuffle=False)\n",
    "val_loader = torch.utils.data.DataLoader(mnist_val, batch_size=64, shuffle=False)\n",
    "test_loader = torch.utils.data.DataLoader(mnist_test,  batch_size=64, shuffle=False)\n",
    "# epoch_num_of_no_improve = 5\n",
    "\n",
    "\n",
    "train_loop(\n",
    "    n_epochs = n_epochs,\n",
    "    optimizer = optimizer,\n",
    "    model = model,\n",
    "    loss_fn = loss_fn,\n",
    "    train_loader = train_loader,\n",
    "    val_loader = val_loader)\n",
    "\n",
    "\n",
    "print('Accuracy score')\n",
    "test_loop(model, val_loader)\n",
    "print('Test score')\n",
    "test_loop(model, test_loader)\n",
    "\n"
   ],
   "metadata": {
    "collapsed": false,
    "pycharm": {
     "name": "#%%\n",
     "is_executing": true
    }
   }
  },
  {
   "cell_type": "code",
   "execution_count": null,
   "outputs": [],
   "source": [],
   "metadata": {
    "collapsed": false,
    "pycharm": {
     "name": "#%%\n",
     "is_executing": true
    }
   }
  },
  {
   "cell_type": "code",
   "execution_count": null,
   "outputs": [],
   "source": [
    "plt.figure(2)\n",
    "plt.plot(epoch_list, train_loss_list, color='blue', label='train_loss')\n",
    "plt.plot(epoch_list, val_loss_list, color='green', label='validation loss')\n",
    "plt.xlabel('epoch')\n",
    "plt.ylabel('loss')\n",
    "plt.legend()"
   ],
   "metadata": {
    "collapsed": false,
    "pycharm": {
     "name": "#%%\n",
     "is_executing": true
    }
   }
  },
  {
   "cell_type": "code",
   "execution_count": null,
   "outputs": [],
   "source": [
    "plt.figure(3)\n",
    "plt.plot(epoch_list, train_acc_list, color='blue', label='train acc')\n",
    "plt.plot(epoch_list, val_acc_list, color='green', label='validation acc')\n",
    "plt.xlabel('epoch')\n",
    "plt.ylabel('accuracy')\n",
    "plt.legend()"
   ],
   "metadata": {
    "collapsed": false,
    "pycharm": {
     "name": "#%%\n",
     "is_executing": true
    }
   }
  },
  {
   "cell_type": "code",
   "execution_count": null,
   "outputs": [],
   "source": [
    "from sklearn.metrics import confusion_matrix\n",
    "import seaborn as sns\n",
    "import pandas as pd\n",
    "y_fit = np.array([])\n",
    "y_test = np.array([])\n",
    "\n",
    "for imgs, labels in test_loader:\n",
    "    model = model.to('cpu')\n",
    "\n",
    "    outputs = model(imgs)\n",
    "\n",
    "    _, predicted = torch.max(outputs, dim=1) # Gives us the index of the highest value\n",
    "    predicted = predicted.detach().numpy()\n",
    "    labels = labels.detach().numpy()\n",
    "    y_fit = np.concatenate((y_fit, predicted), axis=None)\n",
    "    y_test = np.concatenate((y_test, labels), axis=None)\n",
    "    # y_fit.append(predicted)\n",
    "    # y_test.append(labels)\n",
    "\n",
    "labels_names = [\"T-shirt\", \"Trouser\", \"Pullover\", \"Dress\", \"Coat\", \"Sandal\", \"Shirt\", \"Sneaker\", \"Bag\", \"Ankle Boot\"]\n",
    "\n",
    "plt.figure(6, dpi=180)\n",
    "conf_matrix = confusion_matrix(y_test, y_fit)\n",
    "conf_matrix = pd.DataFrame(conf_matrix)\n",
    "sns.heatmap(conf_matrix.T, square=True, annot=True, fmt='d', cbar=False, xticklabels=labels_names, yticklabels=labels_names, cmap='magma')\n",
    "plt.xlabel('true label')\n",
    "plt.ylabel('predicted label')"
   ],
   "metadata": {
    "collapsed": false,
    "pycharm": {
     "name": "#%%\n",
     "is_executing": true
    }
   }
  }
 ],
 "metadata": {
  "kernelspec": {
   "name": "python3",
   "language": "python",
   "display_name": "Python 3 (ipykernel)"
  },
  "language_info": {
   "codemirror_mode": {
    "name": "ipython",
    "version": 2
   },
   "file_extension": ".py",
   "mimetype": "text/x-python",
   "name": "python",
   "nbconvert_exporter": "python",
   "pygments_lexer": "ipython2",
   "version": "2.7.6"
  }
 },
 "nbformat": 4,
 "nbformat_minor": 0
}