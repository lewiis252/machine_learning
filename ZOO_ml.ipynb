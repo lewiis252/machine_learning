{
 "cells": [
  {
   "cell_type": "code",
   "execution_count": 48,
   "metadata": {
    "collapsed": true
   },
   "outputs": [],
   "source": [
    "%matplotlib inline\n",
    "import matplotlib.pyplot as plt\n",
    "import numpy as np\n",
    "import pandas as pd\n",
    "from sklearn.model_selection import train_test_split, RandomizedSearchCV, GridSearchCV\n",
    "from sklearn.preprocessing import StandardScaler\n",
    "from sklearn.decomposition import PCA\n",
    "from sklearn.ensemble import RandomForestClassifier, VotingClassifier\n",
    "from sklearn.linear_model import LogisticRegression\n",
    "from sklearn.pipeline import Pipeline\n",
    "from sklearn.svm import SVC, LinearSVC\n",
    "import seaborn as sns\n",
    "from sklearn.cluster import KMeans"
   ]
  },
  {
   "cell_type": "code",
   "execution_count": 49,
   "outputs": [],
   "source": [
    "# reading csv files\n",
    "data =  pd.read_csv('data\\zoo\\zoo.data', sep=\",\", header=None)"
   ],
   "metadata": {
    "collapsed": false,
    "pycharm": {
     "name": "#%%\n"
    }
   }
  },
  {
   "cell_type": "code",
   "execution_count": 50,
   "outputs": [
    {
     "data": {
      "text/plain": "<Figure size 432x288 with 1 Axes>",
      "image/png": "[encoded data removed]"
     },
     "metadata": {
      "needs_background": "light"
     },
     "output_type": "display_data"
    }
   ],
   "source": [
    "y = data[17]\n",
    "names = data[0]\n",
    "X = data.loc[:, 1:16]\n",
    "\n",
    "'''2D visualise'''\n",
    "pca = PCA(n_components=2, random_state=42)\n",
    "pca_projected = pca.fit_transform(X)\n",
    "pca_projected = pd.DataFrame(pca_projected)\n",
    "\n",
    "plt.figure(1)\n",
    "sns.scatterplot(data=pca_projected, x=0, y=1, palette='hls')\n",
    "\n",
    "X_train, X_test, y_train, y_test = train_test_split(X, y, random_state=42)"
   ],
   "metadata": {
    "collapsed": false,
    "pycharm": {
     "name": "#%%\n"
    }
   }
  },
  {
   "cell_type": "code",
   "execution_count": 51,
   "outputs": [
    {
     "name": "stderr",
     "output_type": "stream",
     "text": [
      "C:\\Users\\lewiis\\.conda\\envs\\deep_learning\\lib\\site-packages\\sklearn\\model_selection\\_split.py:666: UserWarning: The least populated class in y has only 2 members, which is less than n_splits=5.\n",
      "  warnings.warn((\"The least populated class in y has only %d\"\n"
     ]
    },
    {
     "name": "stdout",
     "output_type": "stream",
     "text": [
      "Best parameters: {'forest__max_depth': 6}\n",
      "Best cross-validation score: 0.97\n",
      "Train accuracy 1.0\n",
      "Test accuracy 0.9615384615384616\n"
     ]
    }
   ],
   "source": [
    "'''Random Forest'''\n",
    "\n",
    "param_grid = {'forest__max_depth': [1,2,3,4,5,6,7,8,9,10], }\n",
    "pipe = Pipeline(steps=[('scaler', StandardScaler()), ('forest', RandomForestClassifier())])\n",
    "\n",
    "model = GridSearchCV(pipe, param_grid, cv=5, n_jobs=-1)\n",
    "model.fit(X_train, y_train)\n",
    "\n",
    "print(\"Best parameters: {}\".format(model.best_params_))\n",
    "print(\"Best cross-validation score: {:.2f}\".format(model.best_score_))\n",
    "\n",
    "print('Train accuracy {}'.format(model.score(X_train, y_train)))\n",
    "print('Test accuracy {}'.format(model.score(X_test, y_test)))"
   ],
   "metadata": {
    "collapsed": false,
    "pycharm": {
     "name": "#%%\n"
    }
   }
  },
  {
   "cell_type": "code",
   "execution_count": 52,
   "outputs": [
    {
     "name": "stderr",
     "output_type": "stream",
     "text": [
      "C:\\Users\\lewiis\\.conda\\envs\\deep_learning\\lib\\site-packages\\sklearn\\model_selection\\_split.py:666: UserWarning: The least populated class in y has only 2 members, which is less than n_splits=5.\n",
      "  warnings.warn((\"The least populated class in y has only %d\"\n"
     ]
    },
    {
     "name": "stdout",
     "output_type": "stream",
     "text": [
      "Best parameters: {'log_reg__C': 1.0, 'log_reg__l1_ratio': 0, 'log_reg__solver': 'newton-cg'}\n",
      "Best cross-validation score: 0.96\n",
      "Train accuracy 1.0\n",
      "Test accuracy 0.9615384615384616\n"
     ]
    },
    {
     "name": "stderr",
     "output_type": "stream",
     "text": [
      "C:\\Users\\lewiis\\.conda\\envs\\deep_learning\\lib\\site-packages\\sklearn\\linear_model\\_logistic.py:1317: UserWarning: l1_ratio parameter is only used when penalty is 'elasticnet'. Got (penalty=l2)\n",
      "  warnings.warn(\"l1_ratio parameter is only used when penalty is \"\n"
     ]
    }
   ],
   "source": [
    "'''Logistic regression'''\n",
    "\n",
    "param_grid = {'log_reg__C': [0.001,0.01,0.1,1.,10,100], 'log_reg__solver':['newton-cg', 'lbfgs', 'liblinear', 'sag', 'saga'], 'log_reg__l1_ratio': [0, 0.5, 1]}\n",
    "pipe = Pipeline(steps=[('scaler', StandardScaler()),('log_reg', LogisticRegression())])\n",
    "\n",
    "model = GridSearchCV(pipe, param_grid, cv=5, n_jobs=-1)\n",
    "model.fit(X_train, y_train)\n",
    "\n",
    "print(\"Best parameters: {}\".format(model.best_params_))\n",
    "print(\"Best cross-validation score: {:.2f}\".format(model.best_score_))\n",
    "\n",
    "print('Train accuracy', model.score(X_train, y_train))\n",
    "print('Test accuracy', model.score(X_test, y_test))"
   ],
   "metadata": {
    "collapsed": false,
    "pycharm": {
     "name": "#%%\n"
    }
   }
  },
  {
   "cell_type": "code",
   "execution_count": 53,
   "outputs": [
    {
     "name": "stderr",
     "output_type": "stream",
     "text": [
      "C:\\Users\\lewiis\\.conda\\envs\\deep_learning\\lib\\site-packages\\sklearn\\model_selection\\_split.py:666: UserWarning: The least populated class in y has only 2 members, which is less than n_splits=5.\n",
      "  warnings.warn((\"The least populated class in y has only %d\"\n"
     ]
    },
    {
     "name": "stdout",
     "output_type": "stream",
     "text": [
      "Best parameters: {'LSVC__C': 10, 'LSVC__penalty': 'l2'}\n",
      "Best cross-validation score: 0.99\n",
      "Train accuracy 1.0\n",
      "Test accuracy 0.9615384615384616\n"
     ]
    },
    {
     "name": "stderr",
     "output_type": "stream",
     "text": [
      "C:\\Users\\lewiis\\.conda\\envs\\deep_learning\\lib\\site-packages\\sklearn\\model_selection\\_search.py:922: UserWarning: One or more of the test scores are non-finite: [       nan 0.88              nan 0.90666667        nan 0.92\n",
      "        nan 0.97333333        nan 0.98666667        nan 0.98666667]\n",
      "  warnings.warn(\n"
     ]
    }
   ],
   "source": [
    "'''Linear SVC'''\n",
    "\n",
    "param_grid = {'LSVC__C': [0.001,0.01,0.1,1.,10,100], 'LSVC__penalty': ['l1', 'l2']}\n",
    "pipe = Pipeline(steps=[('scaler', StandardScaler()),('LSVC', LinearSVC(max_iter=100000))])\n",
    "\n",
    "model = GridSearchCV(pipe, param_grid, cv=5, n_jobs=-1)\n",
    "model.fit(X_train, y_train)\n",
    "\n",
    "print(\"Best parameters: {}\".format(model.best_params_))\n",
    "print(\"Best cross-validation score: {:.2f}\".format(model.best_score_))\n",
    "\n",
    "print('Train accuracy', model.score(X_train, y_train))\n",
    "print('Test accuracy', model.score(X_test, y_test))"
   ],
   "metadata": {
    "collapsed": false,
    "pycharm": {
     "name": "#%%\n"
    }
   }
  },
  {
   "cell_type": "code",
   "execution_count": 54,
   "outputs": [
    {
     "name": "stderr",
     "output_type": "stream",
     "text": [
      "C:\\Users\\lewiis\\.conda\\envs\\deep_learning\\lib\\site-packages\\sklearn\\model_selection\\_split.py:666: UserWarning: The least populated class in y has only 2 members, which is less than n_splits=5.\n",
      "  warnings.warn((\"The least populated class in y has only %d\"\n"
     ]
    },
    {
     "name": "stdout",
     "output_type": "stream",
     "text": [
      "Best parameters: {'svc__C': 1.0, 'svc__degree': 1, 'svc__kernel': 'linear'}\n",
      "Best cross-validation score: 0.97\n",
      "Train accuracy 1.0\n",
      "Test accuracy 0.8846153846153846\n"
     ]
    }
   ],
   "source": [
    "'''SVC'''\n",
    "\n",
    "param_grid = {'svc__C': [0.001,0.01,0.1,1.,10,100], 'svc__kernel': ['linear', 'poly', 'rbf', 'sigmoid'], 'svc__degree':[1,2,3,4,5,6,7,8,9]}\n",
    "pipe = Pipeline(steps=[('scaler', StandardScaler()),('svc', SVC())])\n",
    "\n",
    "model = GridSearchCV(pipe, param_grid, cv=5, n_jobs=-1)\n",
    "model.fit(X_train, y_train)\n",
    "\n",
    "print(\"Best parameters: {}\".format(model.best_params_))\n",
    "print(\"Best cross-validation score: {:.2f}\".format(model.best_score_))\n",
    "\n",
    "print('Train accuracy', model.score(X_train, y_train))\n",
    "print('Test accuracy', model.score(X_test, y_test))"
   ],
   "metadata": {
    "collapsed": false,
    "pycharm": {
     "name": "#%%\n"
    }
   }
  }
 ],
 "metadata": {
  "kernelspec": {
   "name": "pycharm-5ff677bb",
   "language": "python",
   "display_name": "PyCharm (machine_learning)"
  },
  "language_info": {
   "codemirror_mode": {
    "name": "ipython",
    "version": 2
   },
   "file_extension": ".py",
   "mimetype": "text/x-python",
   "name": "python",
   "nbconvert_exporter": "python",
   "pygments_lexer": "ipython2",
   "version": "2.7.6"
  }
 },
 "nbformat": 4,
 "nbformat_minor": 0
}